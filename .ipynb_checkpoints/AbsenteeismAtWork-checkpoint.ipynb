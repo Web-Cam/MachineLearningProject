{
 "cells": [
  {
   "cell_type": "code",
   "execution_count": 1,
   "metadata": {},
   "outputs": [],
   "source": [
    "#----------------------------------------------IMPORTS AND DATA IMPORTS----------------------------------------------#"
   ]
  },
  {
   "cell_type": "code",
   "execution_count": 2,
   "metadata": {},
   "outputs": [],
   "source": [
    "#import the data from the csv file + set up imports\n",
    "import numpy as np\n",
    "import os\n",
    "import tarfile\n",
    "from six.moves import urllib\n",
    "import pandas as pd\n",
    "import tensorflow as tf\n",
    "from sklearn.metrics import accuracy_score\n",
    "from sklearn import model_selection as md\n",
    "from sklearn.preprocessing import Imputer\n",
    "tf.logging.set_verbosity(tf.logging.FATAL) #get rid of annoying tensorflow INFO lines\n",
    "\n",
    "workData = \"https://raw.githubusercontent.com/Web-Cam/MachineLearningProject/master/Absenteeism_at_work.csv\"\n",
    "dataset = pd.read_csv(workData)\n",
    "mldataset = pd.read_csv(workData)"
   ]
  },
  {
   "cell_type": "code",
   "execution_count": 3,
   "metadata": {},
   "outputs": [
    {
     "name": "stdout",
     "output_type": "stream",
     "text": [
      "[[ 9.  6.  7. ... 22.  0.  8.]\n",
      " [14. 11. 11. ... 25.  0. 29.]\n",
      " [36. 13.  4. ... 31.  0. 34.]\n",
      " ...\n",
      " [36.  0. 10. ... 31.  0. 34.]\n",
      " [36.  0.  3. ... 31.  0. 34.]\n",
      " [36.  0.  5. ... 31.  0. 34.]]\n"
     ]
    },
    {
     "name": "stderr",
     "output_type": "stream",
     "text": [
      "D:\\Programs\\Anaconda\\lib\\site-packages\\sklearn\\utils\\deprecation.py:58: DeprecationWarning: Class Imputer is deprecated; Imputer was deprecated in version 0.20 and will be removed in 0.22. Import impute.SimpleImputer from sklearn instead.\n",
      "  warnings.warn(msg, category=DeprecationWarning)\n"
     ]
    }
   ],
   "source": [
    "#This cleans up the data, and gets rid of the null values\n",
    "from sklearn.preprocessing import Imputer\n",
    "my_imputer = Imputer()\n",
    "data_with_imputed_values = my_imputer.fit_transform(dataset)\n",
    "print(data_with_imputed_values)"
   ]
  },
  {
   "cell_type": "code",
   "execution_count": 4,
   "metadata": {},
   "outputs": [],
   "source": [
    "X = np.c_[dataset[\"ID\"]]\n",
    "Y = np.c_[dataset[\"Month of absence\"]]"
   ]
  },
  {
   "cell_type": "code",
   "execution_count": 5,
   "metadata": {},
   "outputs": [],
   "source": [
    "#separate training dataset from testing dataset\n",
    "#y = dataset['Absenteeism time in hours']\n",
    "#x = dataset.drop('Absenteeism time in hours', axis=1)"
   ]
  },
  {
   "cell_type": "code",
   "execution_count": 6,
   "metadata": {},
   "outputs": [],
   "source": [
    "#----------------------------------------------FUNCTIONS USED LATER----------------------------------------------#"
   ]
  },
  {
   "cell_type": "code",
   "execution_count": 7,
   "metadata": {},
   "outputs": [],
   "source": [
    "def estimateMissingEMP():\n",
    "    \n",
    "    Month = int(input(\"Enter Month: \"))\n",
    "    while (Month > 12 or Month < 1):\n",
    "        Month = int(input(\"!!Enter month between 1 and 12!!\"))\n",
    "    Day = int(input(\"Enter Day of Week: \"))\n",
    "    while (Day > 33 or Day < 1):\n",
    "        Day = int(input(\"!!Enter day between 1 and 33!!\"))\n",
    "    Seasons = int(input(\"Enter season: \"))\n",
    "    while(Seasons > 4 or Seasons <1):\n",
    "        Seasons = int(input(\"!!Enter season between 1 and 4!!\"))\n",
    "    return(Month,Day,Seasons)\n",
    "    "
   ]
  },
  {
   "cell_type": "code",
   "execution_count": 8,
   "metadata": {},
   "outputs": [],
   "source": [
    "def collectData():\n",
    "    Distance = input(\"Enter Employee Distance From work: \")\n",
    "    Service = input(\"Enter Employee Service Time: \")\n",
    "    AGE = input(\"Employee Age: \")\n",
    "    EDU = input(\"Enter Employee Education: \")\n",
    "    Child = input(\"Enter Number of children: \")\n",
    "    Pets = input(\"Enter Number of pets: \")\n",
    "    return(Distance,Service,AGE,EDU,Child,Pets)\n",
    "    "
   ]
  },
  {
   "cell_type": "code",
   "execution_count": 9,
   "metadata": {},
   "outputs": [],
   "source": [
    "def collectInput():\n",
    "    ID = int(input(\"Enter Employee ID: \"))\n",
    "    while (ID > 36 or ID < 1):\n",
    "        ID = int(input(\"!!Enter ID between 1 and 36!!\"))\n",
    "        \n",
    "    Month = int(input(\"Enter Month: \"))\n",
    "    while (Month > 12 or Month < 1):\n",
    "        Month = int(input(\"!!Enter month between 1 and 12!!\"))\n",
    "        \n",
    "    Day = int(input(\"Enter Day of Week: \"))\n",
    "    while (Day > 33 or Day < 1):\n",
    "        Day = int(input(\"!!Enter day between 1 and 33!!\"))\n",
    "        \n",
    "    #Seasons = int(input(\"Enter season: \"))\n",
    "    #while(Seasons > 4 or Seasons <1):\n",
    "    #    Seasons = int(input(\"!!Enter season between 1 and 4!!\"))\n",
    "    return(ID,Month,Day)"
   ]
  },
  {
   "cell_type": "code",
   "execution_count": 10,
   "metadata": {},
   "outputs": [],
   "source": [
    "#----------------------------------------------CHARTS TO INVESTIGATE THE DATA----------------------------------------------#"
   ]
  },
  {
   "cell_type": "code",
   "execution_count": 11,
   "metadata": {},
   "outputs": [
    {
     "data": {
      "text/plain": [
       "<Figure size 640x480 with 1 Axes>"
      ]
     },
     "metadata": {},
     "output_type": "display_data"
    }
   ],
   "source": [
    "import matplotlib.pyplot as plt\n",
    "dataset.plot(kind = 'hist',y= \"Month of absence\",histtype=\"bar\",edgecolor='black', linewidth=1.2,bins=range(1,14))\n",
    "plt.show()"
   ]
  },
  {
   "cell_type": "code",
   "execution_count": 12,
   "metadata": {},
   "outputs": [
    {
     "data": {
      "image/png": "[encoded data removed]",
      "text/plain": [
       "<Figure size 432x288 with 1 Axes>"
      ]
     },
     "metadata": {
      "needs_background": "light"
     },
     "output_type": "display_data"
    }
   ],
   "source": [
    "dataset.plot(kind = 'hist',y= \"Day of the week\",bins=range(2,8),edgecolor='black', linewidth=1.2)\n",
    "plt.show()"
   ]
  },
  {
   "cell_type": "code",
   "execution_count": 13,
   "metadata": {},
   "outputs": [
    {
     "data": {
      "image/png": "[encoded data removed]",
      "text/plain": [
       "<Figure size 432x288 with 1 Axes>"
      ]
     },
     "metadata": {
      "needs_background": "light"
     },
     "output_type": "display_data"
    }
   ],
   "source": [
    "dataset.plot(kind = 'hist',y= \"Body mass index\",edgecolor='black', linewidth=1.2,align='left')\n",
    "plt.show()"
   ]
  },
  {
   "cell_type": "code",
   "execution_count": 14,
   "metadata": {
    "scrolled": true
   },
   "outputs": [
    {
     "data": {
      "text/plain": [
       "<matplotlib.axes._subplots.AxesSubplot at 0x24beefd4be0>"
      ]
     },
     "execution_count": 14,
     "metadata": {},
     "output_type": "execute_result"
    },
    {
     "data": {
      "image/png": "[encoded data removed]",
      "text/plain": [
       "<Figure size 432x288 with 1 Axes>"
      ]
     },
     "metadata": {
      "needs_background": "light"
     },
     "output_type": "display_data"
    }
   ],
   "source": [
    "def graphrvsA(X,Y):\n",
    "    graph = mldataset.groupby(X)[Y].sum()\n",
    "    graph = graph.reset_index()\n",
    "    graph[Y] = graph[Y] * 100 / sum(mldataset[Y]) #clean up the data\n",
    "    graph = graph.sort_values(by=['Absenteeism time in hours'])\n",
    "    return graph.plot.bar(X,Y)\n",
    "\n",
    "graphrvsA('Reason for absence','Absenteeism time in hours')"
   ]
  },
  {
   "cell_type": "code",
   "execution_count": 15,
   "metadata": {},
   "outputs": [
    {
     "data": {
      "text/html": [
       "<div>\n",
       "<style scoped>\n",
       "    .dataframe tbody tr th:only-of-type {\n",
       "        vertical-align: middle;\n",
       "    }\n",
       "\n",
       "    .dataframe tbody tr th {\n",
       "        vertical-align: top;\n",
       "    }\n",
       "\n",
       "    .dataframe thead th {\n",
       "        text-align: right;\n",
       "    }\n",
       "</style>\n",
       "<table border=\"1\" class=\"dataframe\">\n",
       "  <thead>\n",
       "    <tr style=\"text-align: right;\">\n",
       "      <th></th>\n",
       "      <th>Feature</th>\n",
       "      <th>importance</th>\n",
       "    </tr>\n",
       "  </thead>\n",
       "  <tbody>\n",
       "    <tr>\n",
       "      <th>0</th>\n",
       "      <td>Reason for absence</td>\n",
       "      <td>22.988623</td>\n",
       "    </tr>\n",
       "    <tr>\n",
       "      <th>1</th>\n",
       "      <td>Day of the week</td>\n",
       "      <td>12.933109</td>\n",
       "    </tr>\n",
       "    <tr>\n",
       "      <th>2</th>\n",
       "      <td>Work load Average/day</td>\n",
       "      <td>9.275664</td>\n",
       "    </tr>\n",
       "    <tr>\n",
       "      <th>3</th>\n",
       "      <td>Hit target</td>\n",
       "      <td>8.542307</td>\n",
       "    </tr>\n",
       "    <tr>\n",
       "      <th>4</th>\n",
       "      <td>Month of absence</td>\n",
       "      <td>6.689677</td>\n",
       "    </tr>\n",
       "    <tr>\n",
       "      <th>5</th>\n",
       "      <td>Disciplinary failure</td>\n",
       "      <td>5.376488</td>\n",
       "    </tr>\n",
       "    <tr>\n",
       "      <th>6</th>\n",
       "      <td>Seasons</td>\n",
       "      <td>5.084498</td>\n",
       "    </tr>\n",
       "    <tr>\n",
       "      <th>7</th>\n",
       "      <td>Social drinker</td>\n",
       "      <td>4.142145</td>\n",
       "    </tr>\n",
       "    <tr>\n",
       "      <th>8</th>\n",
       "      <td>Total</td>\n",
       "      <td>4.062154</td>\n",
       "    </tr>\n",
       "    <tr>\n",
       "      <th>9</th>\n",
       "      <td>Height</td>\n",
       "      <td>2.669567</td>\n",
       "    </tr>\n",
       "    <tr>\n",
       "      <th>10</th>\n",
       "      <td>Transportation expense</td>\n",
       "      <td>2.414471</td>\n",
       "    </tr>\n",
       "    <tr>\n",
       "      <th>11</th>\n",
       "      <td>Son</td>\n",
       "      <td>2.340191</td>\n",
       "    </tr>\n",
       "    <tr>\n",
       "      <th>12</th>\n",
       "      <td>Body mass index</td>\n",
       "      <td>2.118831</td>\n",
       "    </tr>\n",
       "    <tr>\n",
       "      <th>13</th>\n",
       "      <td>Service time</td>\n",
       "      <td>1.948987</td>\n",
       "    </tr>\n",
       "    <tr>\n",
       "      <th>14</th>\n",
       "      <td>ID</td>\n",
       "      <td>1.828486</td>\n",
       "    </tr>\n",
       "    <tr>\n",
       "      <th>15</th>\n",
       "      <td>Distance from Residence to Work</td>\n",
       "      <td>1.599445</td>\n",
       "    </tr>\n",
       "    <tr>\n",
       "      <th>16</th>\n",
       "      <td>Pet</td>\n",
       "      <td>1.526300</td>\n",
       "    </tr>\n",
       "    <tr>\n",
       "      <th>17</th>\n",
       "      <td>Weight</td>\n",
       "      <td>1.502787</td>\n",
       "    </tr>\n",
       "    <tr>\n",
       "      <th>18</th>\n",
       "      <td>Age</td>\n",
       "      <td>1.412974</td>\n",
       "    </tr>\n",
       "    <tr>\n",
       "      <th>19</th>\n",
       "      <td>Social smoker</td>\n",
       "      <td>0.946557</td>\n",
       "    </tr>\n",
       "    <tr>\n",
       "      <th>20</th>\n",
       "      <td>Education</td>\n",
       "      <td>0.596739</td>\n",
       "    </tr>\n",
       "  </tbody>\n",
       "</table>\n",
       "</div>"
      ],
      "text/plain": [
       "                            Feature  importance\n",
       "0                Reason for absence   22.988623\n",
       "1                   Day of the week   12.933109\n",
       "2            Work load Average/day     9.275664\n",
       "3                        Hit target    8.542307\n",
       "4                  Month of absence    6.689677\n",
       "5              Disciplinary failure    5.376488\n",
       "6                           Seasons    5.084498\n",
       "7                    Social drinker    4.142145\n",
       "8                             Total    4.062154\n",
       "9                            Height    2.669567\n",
       "10           Transportation expense    2.414471\n",
       "11                              Son    2.340191\n",
       "12                  Body mass index    2.118831\n",
       "13                     Service time    1.948987\n",
       "14                               ID    1.828486\n",
       "15  Distance from Residence to Work    1.599445\n",
       "16                              Pet    1.526300\n",
       "17                           Weight    1.502787\n",
       "18                              Age    1.412974\n",
       "19                    Social smoker    0.946557\n",
       "20                        Education    0.596739"
      ]
     },
     "execution_count": 15,
     "metadata": {},
     "output_type": "execute_result"
    }
   ],
   "source": [
    "from sklearn.ensemble import ExtraTreesRegressor\n",
    "regressor = ExtraTreesRegressor(n_estimators=70)\n",
    "X = dataset.drop(columns=('Absenteeism time in hours')) #everything but what we want to find.\n",
    "\n",
    "y = dataset['Absenteeism time in hours']\n",
    "regressor.fit(X, y)\n",
    "imp_feat = pd.DataFrame({'Feature': dataset.drop(columns='Absenteeism time in hours').columns,\n",
    "                         'importance':regressor.feature_importances_*100})\n",
    "imp_feat.sort_values(by = 'importance', ascending=False).reset_index(drop = True)"
   ]
  },
  {
   "cell_type": "code",
   "execution_count": 16,
   "metadata": {},
   "outputs": [],
   "source": [
    "#----------------------------------------------TRAINING MODEL----------------------------------------------#"
   ]
  },
  {
   "cell_type": "code",
   "execution_count": 17,
   "metadata": {},
   "outputs": [],
   "source": [
    "def NNPredict(x,y,df):\n",
    "    X_train, X_test, y_train, y_test = md.train_test_split(x, y, test_size = 0.20)\n",
    "    nn = MLPClassifier(hidden_layer_sizes=(300,100,100),activation='relu',solver='adam',learning_rate='adaptive',max_iter=100000,learning_rate_init=0.01,alpha=0.01)\n",
    "    nn.fit(X_train, y_train)\n",
    "    print('\\nConfidence Score: {}'.format(round(nn.score(X_test, y_test), 3)))\n",
    "    return nn.predict(df2)"
   ]
  },
  {
   "cell_type": "code",
   "execution_count": 18,
   "metadata": {},
   "outputs": [],
   "source": [
    "def NNPredictFINAL(x,y,df):\n",
    "    X_train, X_test, y_train, y_test = md.train_test_split(x, y, test_size = 0.20)\n",
    "    nn = MLPClassifier(hidden_layer_sizes=(300,300,300),activation='relu',solver='adam',learning_rate='adaptive',max_iter=1000000,learning_rate_init=0.01,alpha=0.01)\n",
    "    nn.fit(X_train, y_train)\n",
    "    print('\\nConfidence Score: {}'.format(round(nn.score(X_test, y_test), 3)))\n",
    "    return nn.predict(df2)"
   ]
  },
  {
   "cell_type": "code",
   "execution_count": 19,
   "metadata": {},
   "outputs": [],
   "source": [
    "def DNNModel(x,y,df):\n",
    "    print(\"Working....\")\n",
    "    X_train, X_test = x[:600], x[600:]\n",
    "    y_train, y_test = y[:600], y[600:]\n",
    "    feature_cols = tf.contrib.learn.infer_real_valued_columns_from_input(X_train)\n",
    "    \n",
    "    dnn_clf = tf.contrib.learn.DNNClassifier(hidden_units=[300,200,200],feature_columns=feature_cols)\n",
    "    dnn_clf = tf.contrib.learn.SKCompat(dnn_clf)\n",
    "    dnn_clf.fit(X_train,y_train,batch_size=50,steps=1000)\n",
    "    \n",
    "    y_pred = dnn_clf.predict(X_test)\n",
    "    score = accuracy_score(y_test, y_pred['classes'])\n",
    "    print(\"Confidence (%): \",score*100)\n",
    "    \n",
    "    return dnn_clf.predict(df)"
   ]
  },
  {
   "cell_type": "code",
   "execution_count": 20,
   "metadata": {},
   "outputs": [],
   "source": [
    "#IMPORTANT ONE \n",
    "from numpy.random import seed\n",
    "seed(6)\n",
    "from sklearn.neural_network import MLPClassifier\n",
    "from sklearn.ensemble import RandomForestRegressor\n",
    "def TestTrainRF(x, y):\n",
    "    \n",
    "\n",
    "    X_train, X_test, y_train, y_test = md.train_test_split(x, y, test_size = 0.20)\n",
    "    \n",
    "    nn = MLPClassifier(hidden_layer_sizes=(500,100,100),activation='relu',solver='adam',learning_rate='adaptive',max_iter=100000,learning_rate_init=0.01,alpha=0.01)\n",
    "    \n",
    "    nn.fit(X_train, y_train)\n",
    "    print('Accuracy: {}'.format(round(nn.score(X_test, y_test), 3)))"
   ]
  },
  {
   "cell_type": "code",
   "execution_count": 21,
   "metadata": {},
   "outputs": [],
   "source": [
    "#----------------------------------------------MAIN PROGRAM----------------------------------------------#"
   ]
  },
  {
   "cell_type": "markdown",
   "metadata": {
    "scrolled": false
   },
   "source": [
    "collection = collectData()\n",
    "    \n",
    "df2 = pd.DataFrame({\"Age\":[collection[2]],\n",
    "                    \"Distance from Residence to Work\":[collection[0]],\n",
    "                    \"Service time\":[collection[1]],\n",
    "                    \"Education\":[collection[3]],\n",
    "                    \"Son\":[collection[4]],\n",
    "                    \"pet\":[collection[5]]}) \n",
    "    \n",
    "y = dataset['Total']\n",
    "\n",
    "    \n",
    "x = dataset.drop(['ID','Total','Reason for absence','Day of the week','Seasons','Transportation expense','Hit target',\n",
    "                     'Work load Average/day ','Social drinker','Social smoker','Weight','Height','Absenteeism time in hours','Month of absence',\n",
    "                      'Disciplinary failure', 'Body mass index'], axis=1)\n",
    "\n",
    "\n",
    "\n",
    "print(\"DAYS EXPECTED TO BE ABSENT:\" ,NNPredict(x,y, df2))"
   ]
  },
  {
   "cell_type": "markdown",
   "metadata": {
    "scrolled": true
   },
   "source": [
    "collection = estimateMissingEMP()\n",
    "df2 = pd.DataFrame({\"Month of absence\":[collection[0]],\"Day of the week\":[collection[1]],\"Seasons\":[collection[2]]}) \n",
    "    \n",
    "y = dataset['Absenteeism time in hours']\n",
    "\n",
    "    \n",
    "x = dataset.drop(['ID','Total','Reason for absence','Transportation expense','Distance from Residence to Work','Hit target',\n",
    "                     'Service time','Age','Work load Average/day ','Social drinker','Social smoker','Weight','Height','Absenteeism time in hours',\n",
    "                      'Disciplinary failure','Education','Son','Pet', 'Body mass index'], axis=1)\n",
    "\n",
    "prediction = NNPredict(x,y, df2)\n",
    "int(prediction)\n",
    "print(\"EMPLOYEES EXPECTED TO BE ABSENT:\" ,prediction)"
   ]
  },
  {
   "cell_type": "code",
   "execution_count": 23,
   "metadata": {},
   "outputs": [
    {
     "name": "stdout",
     "output_type": "stream",
     "text": [
      "Enter Employee ID: 32\n",
      "Enter Month: 1\n",
      "Enter Day of Week: 5\n",
      "Working....\n",
      "Confidence (%):  62.857142857142854\n",
      "HOURS EXPECTED TO BE ABSENT: [1]\n"
     ]
    }
   ],
   "source": [
    "collection = collectInput()\n",
    "df2 = pd.DataFrame({\"ID\":[collection[0]],\"Month of absence\":[collection[1]],\"Day of the week\":[collection[2]]}) \n",
    "    \n",
    "y = dataset['Absenteeism time in hours']\n",
    "\n",
    "\n",
    "x = dataset.drop(['Total','Reason for absence','Transportation expense','Distance from Residence to Work','Hit target',\n",
    "                     'Service time','Age','Work load Average/day ','Social drinker','Social smoker','Weight','Height','Absenteeism time in hours',\n",
    "                      'Disciplinary failure','Education','Son','Pet', 'Body mass index', 'Seasons'], axis=1)\n",
    "\n",
    "prediction = DNNModel(x,y, df2)\n",
    "print(\"HOURS EXPECTED TO BE ABSENT:\" ,prediction['classes'])"
   ]
  },
  {
   "cell_type": "code",
   "execution_count": null,
   "metadata": {},
   "outputs": [],
   "source": []
  },
  {
   "cell_type": "code",
   "execution_count": null,
   "metadata": {},
   "outputs": [],
   "source": []
  }
 ],
 "metadata": {
  "kernelspec": {
   "display_name": "Python 3",
   "language": "python",
   "name": "python3"
  },
  "language_info": {
   "codemirror_mode": {
    "name": "ipython",
    "version": 3
   },
   "file_extension": ".py",
   "mimetype": "text/x-python",
   "name": "python",
   "nbconvert_exporter": "python",
   "pygments_lexer": "ipython3",
   "version": "3.7.1"
  }
 },
 "nbformat": 4,
 "nbformat_minor": 2
}
