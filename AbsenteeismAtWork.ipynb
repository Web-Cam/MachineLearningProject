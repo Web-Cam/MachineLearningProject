{
 "cells": [
  {
   "cell_type": "code",
   "execution_count": 1,
   "metadata": {},
   "outputs": [],
   "source": [
    "import numpy as np\n",
    "import os\n",
    "import tarfile\n",
    "from six.moves import urllib\n",
    "import pandas as pd\n",
    "\n",
    "workData = \"https://raw.githubusercontent.com/Web-Cam/MachineLearningProject/master/Absenteeism_at_work.csv\"\n",
    "dataset = pd.read_csv(workData)"
   ]
  },
  {
   "cell_type": "code",
   "execution_count": 2,
   "metadata": {},
   "outputs": [],
   "source": [
    "from sklearn import model_selection\n",
    "array = dataset.values\n",
    "\n",
    "X = np.c_[dataset[\"ID\"]]\n",
    "Y = np.c_[dataset[\"Month of absence\"]]\n",
    "test_size = 0.20\n"
   ]
  },
  {
   "cell_type": "code",
   "execution_count": 3,
   "metadata": {},
   "outputs": [
    {
     "data": {
      "text/plain": [
       "<Figure size 640x480 with 1 Axes>"
      ]
     },
     "metadata": {},
     "output_type": "display_data"
    }
   ],
   "source": [
    "import matplotlib.pyplot as plt\n",
    "dataset.plot(kind = 'hist',y= \"Month of absence\",histtype=\"bar\",edgecolor='black', linewidth=1.2,bins=range(1,14))\n",
    "plt.show()"
   ]
  },
  {
   "cell_type": "code",
   "execution_count": 4,
   "metadata": {},
   "outputs": [
    {
     "data": {
      "image/png": "[encoded data removed]",
      "text/plain": [
       "<Figure size 432x288 with 1 Axes>"
      ]
     },
     "metadata": {},
     "output_type": "display_data"
    }
   ],
   "source": [
    "dataset.plot(kind = 'hist',y= \"Day of the week\",bins=range(2,8),edgecolor='black', linewidth=1.2)\n",
    "plt.show()"
   ]
  },
  {
   "cell_type": "code",
   "execution_count": 5,
   "metadata": {},
   "outputs": [
    {
     "data": {
      "image/png": "[encoded data removed]",
      "text/plain": [
       "<Figure size 432x288 with 1 Axes>"
      ]
     },
     "metadata": {},
     "output_type": "display_data"
    }
   ],
   "source": [
    "dataset.plot(kind = 'hist',y= \"Body mass index\",edgecolor='black', linewidth=1.2,align='left')\n",
    "plt.show()"
   ]
  },
  {
   "cell_type": "code",
   "execution_count": 6,
   "metadata": {},
   "outputs": [],
   "source": [
    "from sklearn.model_selection import train_test_split\n",
    "from sklearn.neighbors import KNeighborsClassifier\n",
    "\n",
    "\n",
    "def TestTrain(x, y):\n",
    "\n",
    "    X_train, X_test, y_train, y_test = train_test_split(x, y, test_size = 0.20)\n",
    "    knn = KNeighborsClassifier()\n",
    "    knn.fit(X_train, y_train)\n",
    "    print('Accuracy: {}'.format(round(knn.score(X_test, y_test), 3)))"
   ]
  },
  {
   "cell_type": "code",
   "execution_count": 7,
   "metadata": {},
   "outputs": [
    {
     "name": "stdout",
     "output_type": "stream",
     "text": [
      "Accuracy: 0.98\n"
     ]
    }
   ],
   "source": [
    "    y = dataset['Social smoker']\n",
    "    x = dataset.drop('Social smoker', axis=1)\n",
    "    TestTrain(x,y)"
   ]
  },
  {
   "cell_type": "code",
   "execution_count": 8,
   "metadata": {},
   "outputs": [
    {
     "name": "stdout",
     "output_type": "stream",
     "text": [
      "Accuracy: 0.872\n"
     ]
    }
   ],
   "source": [
    "    y = dataset['Body mass index']\n",
    "    x = dataset.drop('Body mass index', axis=1)\n",
    "    TestTrain(x,y)"
   ]
  },
  {
   "cell_type": "code",
   "execution_count": 9,
   "metadata": {},
   "outputs": [
    {
     "name": "stdout",
     "output_type": "stream",
     "text": [
      "Accuracy: 0.851\n"
     ]
    }
   ],
   "source": [
    "    y = dataset['Total']\n",
    "    x = dataset.drop('Total', axis=1)\n",
    "    TestTrain(x,y)"
   ]
  },
  {
   "cell_type": "code",
   "execution_count": 10,
   "metadata": {},
   "outputs": [],
   "source": [
    "def collectData():\n",
    "    ID = input(\"Enter Employee ID \")\n",
    "    Distance = input(\"Enter Employee Distance From work \")\n",
    "    Service = input(\"Enter Employee Service Time \")\n",
    "    AGE = input(\"Employee Age\")\n",
    "    EDU = input(\"Enter Employee Education\")\n",
    "    Child = input(\"Enter Number of children\")\n",
    "    Pets = input(\"Enter Number of pets\")\n",
    "    BMI = input(\"Enter BMI\")\n",
    "    return(ID,Distance,Service,AGE,EDU,Child,Pets,BMI)\n",
    "    "
   ]
  },
  {
   "cell_type": "code",
   "execution_count": 35,
   "metadata": {},
   "outputs": [],
   "source": [
    "def KNNPredict(x, y,df):\n",
    "\n",
    "    X_train, X_test, y_train, y_test = train_test_split(x, y, test_size = 0.20)\n",
    "    knn = KNeighborsClassifier()\n",
    "    knn.fit(X_train, y_train)    \n",
    "    return knn.predict(df2)"
   ]
  },
  {
   "cell_type": "code",
   "execution_count": 39,
   "metadata": {
    "scrolled": true
   },
   "outputs": [
    {
     "name": "stdout",
     "output_type": "stream",
     "text": [
      "Enter Employee ID 37\n",
      "Enter Employee Distance From work 10\n",
      "Enter Employee Service Time 4\n",
      "Employee Age34\n",
      "Enter Employee Education1\n",
      "Enter Number of children3\n",
      "Enter Number of pets0\n",
      "Enter BMI30\n",
      "DAYS EXPECTED TO BE ABSENT: [76]\n"
     ]
    }
   ],
   "source": [
    "    collection = collectData()\n",
    "    \n",
    "    df2 = pd.DataFrame({\"ID\":[collection[0]],\n",
    "                    \"Age\":[collection[3]],\n",
    "                    \"Distance from Residence to Work\":[collection[1]],\n",
    "                    \"Service time\":[collection[2]],\n",
    "                    \"Education\":[collection[4]],\n",
    "                        \"Son\":[collection[5]],\n",
    "                        \"pet\":[collection[6]],\n",
    "                        \"Body mass index\":[collection[7]]\n",
    "\n",
    "                              \n",
    "                              }) \n",
    "    \n",
    "    y = dataset['Total']\n",
    "\n",
    "    \n",
    "    x = dataset.drop(['Total','Reason for absence','Day of the week','Seasons','Transportation expense','Hit target',\n",
    "                     'Work load Average/day ','Social drinker','Social smoker','Weight','Height','Absenteeism time in hours','Month of absence',\n",
    "                      'Disciplinary failure'\n",
    "                     \n",
    "                     ], axis=1)\n",
    "\n",
    "\n",
    "\n",
    "    print(\"DAYS EXPECTED TO BE ABSENT:\" ,KNNPredict(x,y, df2))"
   ]
  },
  {
   "cell_type": "code",
   "execution_count": null,
   "metadata": {},
   "outputs": [],
   "source": []
  },
  {
   "cell_type": "code",
   "execution_count": null,
   "metadata": {},
   "outputs": [],
   "source": []
  },
  {
   "cell_type": "code",
   "execution_count": null,
   "metadata": {},
   "outputs": [],
   "source": []
  }
 ],
 "metadata": {
  "kernelspec": {
   "display_name": "Python 3",
   "language": "python",
   "name": "python3"
  },
  "language_info": {
   "codemirror_mode": {
    "name": "ipython",
    "version": 3
   },
   "file_extension": ".py",
   "mimetype": "text/x-python",
   "name": "python",
   "nbconvert_exporter": "python",
   "pygments_lexer": "ipython3",
   "version": "3.6.5"
  }
 },
 "nbformat": 4,
 "nbformat_minor": 2
}
